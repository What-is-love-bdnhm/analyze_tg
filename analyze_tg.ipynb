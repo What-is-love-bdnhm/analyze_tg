{
 "cells": [
  {
   "metadata": {},
   "cell_type": "markdown",
   "source": [
    "# Телеграм бот с ИИ, анализирующий данные и визуализирующий их для пользователя\n",
    "\n",
    "Цель работы: Проанализировать данные о продажах при помощи ии, визуализировать их для пользователя и внедрить это в телеграм бота."
   ],
   "id": "9ba9cf07e907049f"
  },
  {
   "metadata": {},
   "cell_type": "markdown",
   "source": [
    "## План работы\n",
    "\n",
    "1. Открыть файл с данными, изучить общую информацию\n",
    "2. Провести предобработку данных (проверка на пропуски, дубли, типы данных в столбцах)\n",
    "3. Прописать промпты для g4f и нормализовать его работу с данными для анализа.\n",
    "4. Подготовить функции создания графиков для дальнейших их запусков\n",
    "5. Написать телеграм бота который будет принимать запросы, отправлять их ИИ и позже присылать ответ с png и html созданного графика. "
   ],
   "id": "6c9879ff268197a4"
  },
  {
   "metadata": {},
   "cell_type": "markdown",
   "source": "### Обработка данных",
   "id": "a67a79b0ba7a4e15"
  },
  {
   "metadata": {},
   "cell_type": "markdown",
   "source": "Для начала импортируем нужные библиотеки",
   "id": "acf878ed3882d727"
  },
  {
   "cell_type": "code",
   "id": "initial_id",
   "metadata": {
    "collapsed": true,
    "jupyter": {
     "is_executing": true
    }
   },
   "source": [
    "import re\n",
    "import pandas as pd\n",
    "import plotly.express as px\n",
    "from g4f.client import Client\n",
    "from ydata_profiling import ProfileReport\n",
    "import telebot\n",
    "import dataframe_image as dfi\n",
    "from telebot import types"
   ],
   "outputs": [],
   "execution_count": null
  },
  {
   "metadata": {},
   "cell_type": "markdown",
   "source": "После указания библиотек нужно импортировать файл с которым мы будем работать. Сразу же проверим целостность его данных, их типы и количество.",
   "id": "4989e049f6691987"
  },
  {
   "metadata": {
    "jupyter": {
     "is_executing": true
    }
   },
   "cell_type": "code",
   "source": [
    "sales = pd.read_csv('ml_1. Прогнозирование спроса на товары в розничной торговле на основе данных о продажах и маркетинговой активности.csv')\n",
    "sales.info()"
   ],
   "id": "b33e81c222462d4f",
   "outputs": [],
   "execution_count": null
  },
  {
   "metadata": {},
   "cell_type": "markdown",
   "source": [
    "В нашем файле отсутствуют пустующие столбцы, а также типы данных на первый взгляд логичны. Из этого делаем вывод, что удалять или форматировать ничего не нужно, поскольку целостность данных позволяет провести верный анализ.\n",
    "\n",
    "Далее бегло осмотрим взятый датафрейм:"
   ],
   "id": "8cb0f0a743e9d8b8"
  },
  {
   "metadata": {
    "jupyter": {
     "is_executing": true
    }
   },
   "cell_type": "code",
   "source": "sales.head(5)",
   "id": "76eb5a476a7ec898",
   "outputs": [],
   "execution_count": null
  },
  {
   "metadata": {},
   "cell_type": "markdown",
   "source": [
    "Судя по имеющимся данным мы можем проанализировать количество продаж в соотношении каких-либо факторов.\n",
    "\n",
    "Перед началом работы детальнее рассмотрим потенциально ненужный столбец:"
   ],
   "id": "f35587c241e0c11b"
  },
  {
   "metadata": {
    "jupyter": {
     "is_executing": true
    }
   },
   "cell_type": "code",
   "source": "print(sales['Дата'].unique()) # Уникальные значения в столбце",
   "id": "db8e9729693800d1",
   "outputs": [],
   "execution_count": null
  },
  {
   "metadata": {},
   "cell_type": "markdown",
   "source": "По выводу кода мы видим, что уникальное значение всего одно. Смело избавляемся от данного столбца и упрощаем себе работу:",
   "id": "caaf015e8003273f"
  },
  {
   "metadata": {
    "jupyter": {
     "is_executing": true
    }
   },
   "cell_type": "code",
   "source": [
    "sales = sales.drop(labels='Дата', axis=1)\n",
    "sales"
   ],
   "id": "42b61c0c700d6ec0",
   "outputs": [],
   "execution_count": null
  },
  {
   "metadata": {},
   "cell_type": "markdown",
   "source": "После проделанной работы можем подглядеть в ProfileReport дабы убедиться в правильности проделанных действий.",
   "id": "c8349ac5125b735c"
  },
  {
   "metadata": {
    "jupyter": {
     "is_executing": true
    }
   },
   "cell_type": "code",
   "source": [
    "profile = ProfileReport(sales, title=\"Pandas Profiling Report\")\n",
    "\n",
    "profile"
   ],
   "id": "ab8a3bbd071f32ce",
   "outputs": [],
   "execution_count": null
  },
  {
   "metadata": {},
   "cell_type": "markdown",
   "source": [
    "По профилю, в первую очередь, мы можем заметить, что не оставили бесполезных столбцов, тем самым достаточно оптимизировав датафрейм. Но, к сожалению, по графику corellations и interactions человеческим взглядом трудно сделать какие либо выводы. Смеем предположить, что на графиках иного вида ситуация схожая, а потому воспользуемся помощью ИИ для решения этой задачи.\n",
    "\n",
    "Поскольку далее мы будем использовать бесплатную версию gpt для анализа данных, нам следует их максимально сжать или обрезать. Пойдём по второму пути и будем анализировать каждую категорию по каким-либо критериям."
   ],
   "id": "46ca019cda55401c"
  },
  {
   "metadata": {},
   "cell_type": "markdown",
   "source": "Раздробим наш датафрейм по категориям:",
   "id": "cfe02235d08562ba"
  },
  {
   "metadata": {
    "jupyter": {
     "is_executing": true
    }
   },
   "cell_type": "code",
   "source": [
    "grouped = sales.groupby('Категория товара')\n",
    "categories = {category: group.reset_index(drop=True) for category, group in grouped} # создаём словарь с ключом имени категории и значением датафрейм\n",
    "\n",
    "for category, group_df in categories.items():\n",
    "    print(f\"\\nDataFrame для категории {category}:\")\n",
    "    print(group_df.head(5))"
   ],
   "id": "4ed4d453af206206",
   "outputs": [],
   "execution_count": null
  },
  {
   "metadata": {},
   "cell_type": "markdown",
   "source": "Мы получили датафреймы, но в них остались бесполезные столбцы \"Категория товара\". Мы уже указали наименования категорий датафреймов в словаре categories, а потому избавимся от этих столбцов:",
   "id": "3acddb18dc3e8c93"
  },
  {
   "metadata": {
    "jupyter": {
     "is_executing": true
    }
   },
   "cell_type": "code",
   "source": [
    "for category, group_df in categories.items():\n",
    "    categories[category] = categories[category].drop(labels='Категория товара', axis=1)\n",
    "\n",
    "for category, group_df in categories.items():\n",
    "    print(f\"\\nDataFrame для категории {category}:\")\n",
    "    print(group_df)"
   ],
   "id": "b388a9d80cb70408",
   "outputs": [],
   "execution_count": null
  },
  {
   "metadata": {},
   "cell_type": "markdown",
   "source": "На данном этапе мы имеем датафреймы готовые к работе с plotly и g4f. Пора переходить к следующему этапу работы...",
   "id": "5cb6b33f9bff7ae5"
  },
  {
   "metadata": {},
   "cell_type": "markdown",
   "source": "### GPT for free нам в помощь!",
   "id": "1d2315dd34ad9fe2"
  },
  {
   "metadata": {},
   "cell_type": "markdown",
   "source": "Заранее создаём функцию для анализа данных с помощью ИИ",
   "id": "dacff916d8ecf7eb"
  },
  {
   "metadata": {
    "jupyter": {
     "is_executing": true
    }
   },
   "cell_type": "code",
   "source": [
    "def g4f_analyze(content:str, model='gpt-4o') -> str:\n",
    "    client = Client()\n",
    "    prompt = '''Тебе даётся датафрейм продаж. Проведи анализ и сделай вывод на русском языке, опиши всё словами. Бери в учёт все столбцы'''\n",
    "    response = client.chat.completions.create(\n",
    "        prompt=prompt,\n",
    "        messages=[\n",
    "        {\n",
    "            \"role\": \"system\",\n",
    "            \"content\": f'{prompt}'\n",
    "        },\n",
    "        {\n",
    "            \"role\": \"user\",\n",
    "            \"content\": f'{content}'\n",
    "        }\n",
    "    ])\n",
    "    return response.choices[0].message.content"
   ],
   "id": "7fa876c156616691",
   "outputs": [],
   "execution_count": null
  },
  {
   "metadata": {},
   "cell_type": "markdown",
   "source": "В качестве бонуса добавим функцию для ответа на (почти)любые вопросы, добавим промпт, дабы бот мог отвечать на вопросы по поводу функционала, а также напишем небольшую проверку полученного ответа и ограничим количество попыток генерации.",
   "id": "95df886e9f626ccf"
  },
  {
   "metadata": {
    "jupyter": {
     "is_executing": true
    }
   },
   "cell_type": "code",
   "source": [
    "def g4f_question(content:str, model='gpt-4o') -> str: \n",
    "    prompt = '''Ты искуственный интеллект для анализа данных датафрейма.\n",
    "Ты должен отвечать только на русском языке в официальном стиле!\n",
    "\n",
    "Твой функционал включает в себя:\n",
    "1. Анализ данных.\n",
    "2. Вывод результата анализа текстом без советов по написанию кода для этого анализа.\n",
    "3. Вывод графиков по датафрейму в формате png или html.\n",
    "4. Ответ пользователю на интересующие его вопросы по поводу твоего функционала, или другим темам.\n",
    "'''\n",
    "    i = 1\n",
    "    while i <= 10:\n",
    "        print(f'Попытка №{i}')\n",
    "        client = Client()\n",
    "        response = client.chat.completions.create(\n",
    "            model=model,\n",
    "            messages=[\n",
    "                {\n",
    "                    \"role\": \"system\",\n",
    "                    \"content\": f'{prompt}'\n",
    "                },\n",
    "                {\n",
    "                    \"role\": \"user\",\n",
    "                    \"content\": f'{content}'\n",
    "                }\n",
    "            ]\n",
    "        )\n",
    "        res = response.choices[0].message.content\n",
    "        i += 1\n",
    "        clear_text = re.sub(r\"[A-Za-z0-9]\", \"\", res)\n",
    "        if len(clear_text) > 25:\n",
    "            if 'model' not in res.lower() and 'blackbox' not in res.lower():\n",
    "                return res.strip()\n",
    "    return 'Повторите попытку снова'"
   ],
   "id": "12e7dced94589317",
   "outputs": [],
   "execution_count": null
  },
  {
   "metadata": {},
   "cell_type": "markdown",
   "source": "### Графики по нашим датафреймам",
   "id": "b27e1bffb3af4bf7"
  },
  {
   "metadata": {},
   "cell_type": "markdown",
   "source": "Напишем один большой блок кода с функциями для создания каждого возможного графика по желанию пользователя",
   "id": "cf1560aa901b161c"
  },
  {
   "metadata": {
    "jupyter": {
     "is_executing": true
    }
   },
   "cell_type": "code",
   "source": [
    "def create_graphic(category:str, tables:list) -> list:\n",
    "    x, y, color = tables\n",
    "    graph = px.scatter(categories[category], x=x, y=y, color=color)\n",
    "    return [graph.to_image(), graph.to_html()]\n",
    "\n",
    "def create_graphic_3d(category:str, tables:list) -> list:\n",
    "    x,y,z = tables\n",
    "    graph = px.scatter_3d(categories[category], x=x, y=y, z=z)\n",
    "    return [graph.to_image(), graph.to_html()]"
   ],
   "id": "bf5f54b0df4bdb0f",
   "outputs": [],
   "execution_count": null
  },
  {
   "metadata": {},
   "cell_type": "markdown",
   "source": "Мы конечно же не хотим писать целое приложение для нашего проекта, а потому используем наиболее доступную каждому пользователю платформу для взаимодействия с нашим проектом, а именно телеграм.",
   "id": "6522b27fd0e5c290"
  },
  {
   "metadata": {},
   "cell_type": "markdown",
   "source": "## Телеграм бот",
   "id": "26cf8741178a9457"
  },
  {
   "metadata": {},
   "cell_type": "markdown",
   "source": "Переходим к заключительной и самой интересной части нашей работы, но для начала заранее создадим png и html нашего основного датафрейма дабы не генерировать их каждый раз при необходимости показать пользователю.",
   "id": "59e0338301c502a6"
  },
  {
   "metadata": {
    "jupyter": {
     "is_executing": true
    }
   },
   "cell_type": "code",
   "source": [
    "photo = sales.head(10)\n",
    "sales.to_html(\"main_df.html\", index=True)\n",
    "dfi.export(photo,\"main_df.png\")"
   ],
   "id": "b11aa55905a87dc7",
   "outputs": [],
   "execution_count": null
  },
  {
   "metadata": {},
   "cell_type": "markdown",
   "source": "Остаётся только самое сложное - написание телеграм бота с полноценным меню. Лучшее что мы здесь сделаем, это используем состояние пользователя для создания меню с переходами дабы не обмазываться лишними операторами, а также напишем комментарии к каждому потенциально сложному блоку кода и не будем путать ни себя, ни людей которые будут работать с нашим кодом.",
   "id": "273d5316a9fdc133"
  },
  {
   "metadata": {
    "jupyter": {
     "is_executing": true
    }
   },
   "cell_type": "code",
   "source": [
    "TOKEN = '7677363072:AAGCj1dhXNqaH-j56lEgW3BJ1HoJx8W4kcw' # сюда вставить свой токен TG бота\n",
    "bot = telebot.TeleBot(TOKEN)\n",
    "user_states = {} # состояния пользователей для контролирования их передвижения по меню\n",
    "category_global = ''\n",
    "\n",
    "\n",
    "# СТАРТОВАЯ КОМАНДА # СТАРТОВАЯ КОМАНДА # СТАРТОВАЯ КОМАНДА # СТАРТОВАЯ КОМАНДА\n",
    "@bot.message_handler(commands=['start'])\n",
    "def start(message): # главная функция. тут мы создаём кнопки нашего меню и приветствуем пользователя\n",
    "    markup = types.ReplyKeyboardMarkup(resize_keyboard=True)\n",
    "    btn1 = types.KeyboardButton(\"Справка о боте\")\n",
    "    btn2 = types.KeyboardButton(\"Показать таблицу\")\n",
    "    btn3 = types.KeyboardButton(\"Начать работу с данными\")\n",
    "    btn4 = types.KeyboardButton(\"Задать вопрос ИИ\")\n",
    "    markup.add(btn1, btn2, btn3, btn4)\n",
    "    \n",
    "    txt = f\"Привет, {message.from_user.first_name}! Я бот для анализа данных датафреймов, просмотрите мой функционал в командах.\"\n",
    "    bot.send_message(message.chat.id, text=txt, reply_markup=markup)\n",
    "    \n",
    "    user_states[message.chat.id] = 'MAIN_MENU' # меняем состояние пользователя для перехода в другое меню\n",
    "# СТАРТОВАЯ КОМАНДА # СТАРТОВАЯ КОМАНДА # СТАРТОВАЯ КОМАНДА # СТАРТОВАЯ КОМАНДА\n",
    "\n",
    "\n",
    "# ГЛАВНОЕ МЕНЮ # ГЛАВНОЕ МЕНЮ # ГЛАВНОЕ МЕНЮ # ГЛАВНОЕ МЕНЮ\n",
    "@bot.message_handler(func=lambda message: user_states.get(message.chat.id) == 'MAIN_MENU') # проверяем находится ли пользователь в нужном состоянии\n",
    "def check_buttons(message): # главная функция\n",
    "    \"\"\"\n",
    "    В данном блоке кода мы будем использовать операторы для проверки нажатия определённой кнопки путём прочтения сообщения пользователя.\n",
    "    Справка нужна для краткого объяснения пользователю принципа работы бота и будет выводиться по желанию, ровно как и таблица основного датафрейма.\n",
    "    Также мы реализуем переход пользователя между блоками меню, создавая новые кнопки и меняя состояние пользователя по id чата.\n",
    "    \"\"\"\n",
    "    if message.text == 'Справка о боте': # вывод справки\n",
    "        txt = '''   Я рад, что вы решили прочитать справку перед началом работы!\n",
    "\n",
    "    Мой функционал включает в себя анализ и рисование графиков по тем данным что я имею.\n",
    "К сожалению я являюсь демо-версией более гибкого в использовании бота, который должен принимать в себя любые данные\n",
    "в формате excel или csv. Мой способ анализа основан на использовании g4f, что сильно ограничивает меня в работе,\n",
    "потому в будущем я хотел бы иметь платную версию gpt для анализа более крупных датафреймов/датасетов.\n",
    "\n",
    "Основные функции:\n",
    "    1. Вывод датафреймов имеющихся в наличии в формате png и html\n",
    "    2. Анализ выбранного датафрейма и вывод его графика в формате html или png(по выбору)\n",
    "    3. Задать вопрос ИИ\n",
    "\n",
    "Примечание:\n",
    "    Анализ данных может занимать более 3 минут, а ответ вовсе вам не понравиться, поэтому, пожалуйста, будьте терпеливы и помните, что я могу сломаться\n",
    "из-за частых запросов. Обязательно обождите обработки вашего запроса перед созданием нового!'''\n",
    "        bot.send_message(message.chat.id, txt)\n",
    "\n",
    "    elif message.text == 'Показать таблицу': # вывод таблицы в формате png и html\n",
    "        bot.send_message(message.chat.id, \"Отправляю вам обрезанный датафрейм в формате png и полный в формате html:\")\n",
    "        bot.send_photo(message.chat.id, open('main_df.png','rb'))\n",
    "        bot.send_document(message.chat.id, open('main_df.html', 'rb'))\n",
    "\n",
    "    elif message.text == 'Начать работу с данными': # переход в следующее меню. в дальнейшем для этого мы будем использовать функции\n",
    "        user_states[message.chat.id] = 'CATEGORY_CHECK'\n",
    "        \n",
    "        markup = types.ReplyKeyboardMarkup(resize_keyboard=True)\n",
    "        btn1 = types.KeyboardButton(\"Показать всю таблицу\")\n",
    "        btn2 = types.KeyboardButton(\"Показать категории\")\n",
    "        btn3 = types.KeyboardButton(\"Выбрать категорию для анализа\")\n",
    "        btn4 = types.KeyboardButton(\"Вернуться в главное меню\")\n",
    "        markup.add(btn1, btn2, btn3, btn4)\n",
    "    \n",
    "        txt = f\"Вы перешли в меню работы с категориями\"\n",
    "        bot.send_message(message.chat.id, text=txt, reply_markup=markup)\n",
    "\n",
    "    elif message.text == 'Задать вопрос ИИ': # небольшой бонус нашего бота в качестве ответа на вопросы\n",
    "        user_states[message.chat.id] = 'QUESTIONS_PROCESSING'\n",
    "\n",
    "        markup = types.ReplyKeyboardMarkup(resize_keyboard=True)\n",
    "        back = types.KeyboardButton(\"Вернуться в главное меню\")\n",
    "        markup.add(back)\n",
    "        bot.send_message(message.chat.id, 'Я готов отвечать на ваши вопросы!', reply_markup=markup)\n",
    "# ГЛАВНОЕ МЕНЮ # ГЛАВНОЕ МЕНЮ # ГЛАВНОЕ МЕНЮ # ГЛАВНОЕ МЕНЮ       \n",
    "\n",
    "\n",
    "# МЕНЮ ПРОСМОТРА КАТЕГОРИЙ # МЕНЮ ПРОСМОТРА КАТЕГОРИЙ\n",
    "@bot.message_handler(func=lambda message: user_states.get(message.chat.id) == 'CATEGORY_CHECK')\n",
    "def analyze_processing(message): # главная функция\n",
    "    if message.text == 'Вернуться в главное меню':\n",
    "        back_to_main_menu(message)\n",
    "\n",
    "    elif message.text == 'Показать всю таблицу':\n",
    "        bot.send_message(message.chat.id, \"Отправляю вам обрезанный датафрейм в формате png и полный в формате html:\")\n",
    "        bot.send_photo(message.chat.id, open('main_df.png','rb'))\n",
    "        bot.send_document(message.chat.id, open('main_df.html', 'rb'))\n",
    "\n",
    "    elif message.text == 'Показать категории':\n",
    "        text = 'Отправляю вам обрезанные png датафреймы категорий и полные в формате html:\\n'\n",
    "        bot.send_message(message.chat.id, text)\n",
    "        for category, content in categories.items():\n",
    "            bot.send_message(message.chat.id, category)\n",
    "            photo = content.head(5)\n",
    "            photo.to_html(\"sub_df.html\", index=True)\n",
    "            dfi.export(photo,\"sub_df.png\")\n",
    "            bot.send_photo(message.chat.id, open('sub_df.png','rb'))\n",
    "            bot.send_document(message.chat.id, open('sub_df.html', 'rb'))\n",
    "    \n",
    "    elif message.text == 'Выбрать категорию для анализа':\n",
    "        go_to_choose_category_menu(message)\n",
    "        \n",
    "\n",
    "def back_to_main_menu(message): # вернуться в главное меню\n",
    "    user_states[message.chat.id] = 'MAIN_MENU'\n",
    "    start(message)\n",
    "    \n",
    "    \n",
    "def go_to_choose_category_menu(message): # переход в меню выбора категории\n",
    "    user_states[message.chat.id] = 'CATEGORY_CHOOSE'\n",
    "\n",
    "    markup = types.ReplyKeyboardMarkup(resize_keyboard=True)\n",
    "    btn1 = types.KeyboardButton(\"Косметика\")\n",
    "    btn2 = types.KeyboardButton('Продукты питания')\n",
    "    btn3 = types.KeyboardButton('Одежда')\n",
    "    btn4 = types.KeyboardButton('Электроника')\n",
    "    back = types.KeyboardButton(\"Вернуться в меню работы с категориями\")\n",
    "    markup.add(btn1, btn2, btn3, btn4, back)\n",
    "    bot.send_message(message.chat.id, 'Вы перешли в меню выбора конкретной категории', reply_markup=markup)\n",
    "# МЕНЮ ПРОСМОТРА КАТЕГОРИЙ # МЕНЮ ПРОСМОТРА КАТЕГОРИЙ\n",
    "\n",
    "\n",
    "# ВЫБОР КАТЕГОРИИ # ВЫБОР КАТЕГОРИИ # ВЫБОР КАТЕГОРИИ\n",
    "@bot.message_handler(func=lambda message: user_states.get(message.chat.id) == 'CATEGORY_CHOOSE')\n",
    "def category_choose(message): # главная функция\n",
    "    if message.text == 'Вернуться в меню работы с категориями':\n",
    "        back_to_category_check_menu(message)\n",
    "\n",
    "    elif message.text in ('Косметика','Продукты питания','Одежда','Электроника'):\n",
    "        go_to_category_processing(message, message.text)\n",
    "\n",
    "\n",
    "def back_to_category_check_menu(message): # вернуться  в меню работы с категориями\n",
    "    user_states[message.chat.id] = 'CATEGORY_CHECK'\n",
    "    markup = types.ReplyKeyboardMarkup(resize_keyboard=True)\n",
    "    btn1 = types.KeyboardButton(\"Показать всю таблицу\")\n",
    "    btn2 = types.KeyboardButton(\"Показать категории\")\n",
    "    btn3 = types.KeyboardButton(\"Выбрать категорию для анализа\")\n",
    "    btn4 = types.KeyboardButton(\"Вернуться в главное меню\")\n",
    "    markup.add(btn1, btn2, btn3, btn4)\n",
    "\n",
    "    txt = \"Вы перешли в меню работы с категориями\"\n",
    "    \n",
    "    bot.send_message(message.chat.id, text=txt, reply_markup=markup)\n",
    "    analyze_processing(message)\n",
    "\n",
    "\n",
    "def go_to_category_processing(message, category): # переход в меню анализа категории\n",
    "    user_states[message.chat.id] = 'CATEGORY_PROCESSING'\n",
    "    \n",
    "    markup = types.ReplyKeyboardMarkup(resize_keyboard=True)\n",
    "    btn1 = types.KeyboardButton(\"Показать датафрейм\")\n",
    "    btn2 = types.KeyboardButton(\"Нарисовать графики по датафрейму\")\n",
    "    btn3 = types.KeyboardButton(\"Выбрать 3 столбца для анализа\")\n",
    "    back = types.KeyboardButton(\"Вернуться в меню выбора категории\")\n",
    "    markup.add(btn1, btn2, btn3, back)\n",
    "\n",
    "    global category_global\n",
    "    category_global = category\n",
    "    txt = f\"Вы перешли в меню анализа категории '{category}'\"\n",
    "    bot.send_message(message.chat.id, text=txt, reply_markup=markup)\n",
    "# ВЫБОР КАТЕГОРИИ # ВЫБОР КАТЕГОРИИ # ВЫБОР КАТЕГОРИИ \n",
    "\n",
    "\n",
    "# АНАЛИЗ КАТЕГОРИИ # АНАЛИЗ КАТЕГОРИИ # АНАЛИЗ КАТЕГОРИИ\n",
    "@bot.message_handler(func=lambda message: user_states.get(message.chat.id) == 'CATEGORY_PROCESSING')\n",
    "def category_processing(message): # главная функция\n",
    "    if message.text == 'Вернуться в меню выбора категории':\n",
    "        back_to_category_choose_menu(message)\n",
    "        \n",
    "    elif message.text == 'Показать датафрейм':\n",
    "        bot.send_message(message.chat.id, category_global)\n",
    "        photo = categories[category_global].head(5)\n",
    "        photo.to_html(\"sub_df.html\", index=True)\n",
    "        dfi.export(photo,\"sub_df.png\")\n",
    "        bot.send_photo(message.chat.id, open('sub_df.png','rb'))\n",
    "        bot.send_document(message.chat.id, open('sub_df.html', 'rb'))\n",
    "        \n",
    "    elif message.text == 'Выбрать и нарисовать график по датафрейму':\n",
    "        pass\n",
    "    \n",
    "    elif message.text == 'Выбрать 3 столбца для анализа':\n",
    "        pass\n",
    "    \n",
    "\n",
    "def back_to_category_choose_menu(message): # возврат в меню выбора категории\n",
    "    user_states[message.chat.id] = 'CATEGORY_CHOOSE'\n",
    "    \n",
    "    markup = types.ReplyKeyboardMarkup(resize_keyboard=True)\n",
    "    btn1 = types.KeyboardButton(\"Косметика\")\n",
    "    btn2 = types.KeyboardButton('Продукты питания')\n",
    "    btn3 = types.KeyboardButton('Одежда')\n",
    "    btn4 = types.KeyboardButton('Электроника')\n",
    "    back = types.KeyboardButton(\"Вернуться в меню работы с категориями\")\n",
    "    markup.add(btn1, btn2, btn3, btn4, back)\n",
    "    \n",
    "    bot.send_message(message.chat.id, 'Вы перешли в меню выбора конкретной категории', reply_markup=markup)\n",
    "    category_choose(message)\n",
    "# АНАЛИЗ КАТЕГОРИИ # АНАЛИЗ КАТЕГОРИИ # АНАЛИЗ КАТЕГОРИИ\n",
    "\n",
    "\n",
    "# ОТВЕТЫ ИИ НА ВОПРОСЫ # ОТВЕТЫ ИИ НА ВОПРОСЫ # ОТВЕТЫ ИИ НА ВОПРОСЫ\n",
    "@bot.message_handler(func=lambda message: user_states.get(message.chat.id) == 'QUESTIONS_PROCESSING')\n",
    "def questions_processing(message): # главная функция\n",
    "    if message.text == \"Вернуться в главное меню\":\n",
    "        back_to_main_menu2(message)\n",
    "        \n",
    "    else:\n",
    "        bot.send_message(message.chat.id, text=g4f_question(message.text))\n",
    "\n",
    "\n",
    "def back_to_main_menu2(message): # возврат в главное меню\n",
    "    user_states[message.chat.id] = 'MAIN_MENU'\n",
    "    start(message)\n",
    "# ОТВЕТЫ ИИ НА ВОПРОСЫ # ОТВЕТЫ ИИ НА ВОПРОСЫ # ОТВЕТЫ ИИ НА ВОПРОСЫ\n",
    "\n",
    "\n",
    "if __name__ == '__main__': # запускаем бота и отключаем ему возможность закончить работу\n",
    "    bot.polling(none_stop=True)"
   ],
   "id": "3ce7873592913cb6",
   "outputs": [],
   "execution_count": null
  }
 ],
 "metadata": {
  "kernelspec": {
   "display_name": "Python 3",
   "language": "python",
   "name": "python3"
  },
  "language_info": {
   "codemirror_mode": {
    "name": "ipython",
    "version": 2
   },
   "file_extension": ".py",
   "mimetype": "text/x-python",
   "name": "python",
   "nbconvert_exporter": "python",
   "pygments_lexer": "ipython2",
   "version": "2.7.6"
  }
 },
 "nbformat": 4,
 "nbformat_minor": 5
}
